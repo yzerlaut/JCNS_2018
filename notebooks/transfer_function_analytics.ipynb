{
 "cells": [
  {
   "cell_type": "markdown",
   "metadata": {},
   "source": [
    "# An analytical workflow for the estimation of the \"transfer function\" of spiking neuron model\n",
    "\n",
    "_Prerequisites_: Basics about the theory of point processes. Membrane Equation for the single compartment model (e.g reproduce Kuhn et al. 2004).\n",
    "\n",
    "adapted from the strategy suggested in the experimental study of Zerlaut et al., ~2016. \n",
    "\n",
    "Here, instead of the \"fluctuating current + static conductance\" presented in the paper, we apply this strategy on an input made of and excitatory and an inhibitory shotnoise with conductance-based synapses\n",
    "\n",
    "See also the same calculus for a model of a dendritic structure and presynaptic correlations in Zerlaut & Destexhe ~2016 (a lot heavier though)\n"
   ]
  },
  {
   "cell_type": "code",
   "execution_count": 20,
   "metadata": {
    "collapsed": true
   },
   "outputs": [],
   "source": [
    "from sympy import *\n",
    "\n",
    "# synaptic parameters: Weight, Time constant,  Number of synapses amd Reversal potential\n",
    "Qe, Te, Ke, Ee = symbols(\"Qe, Te, Ke, Ee\") # excitatory params\n",
    "Qi, Ti, Ki, Ei = symbols(\"Qi, Ti, Ki, Ei\") # inhibitory params\n",
    "\n",
    "# membrane parameters, only passive\n",
    "gL, Cm, El = symbols(\"gL, Cm, El\") # inhibitory params\n",
    "\n",
    "## quantities necessaries for the calculus\n",
    "Ge_tot, Gi_tot, muG, Tm = symbols(\"Ge_tot, Gi_tot, muG, Tm\") \n",
    "fe, fi = symbols(\"fe, fi\") # synaptic frequencies, against which we want:\n",
    "muV, sV, Tv = symbols(\"muV, sV, Tv\") # the properties of the membrane potential properties\n"
   ]
  },
  {
   "cell_type": "markdown",
   "metadata": {},
   "source": [
    "## 1) Properties of the membrane potential fluctuations: $\\mu_V, \\sigma_V, \\tau_V$"
   ]
  },
  {
   "cell_type": "code",
   "execution_count": 35,
   "metadata": {
    "collapsed": true
   },
   "outputs": [],
   "source": [
    "# getting the mean membrane potential, see Kuhn et al.\n",
    "Ge_tot, Gi_tot = Ke*Te*Qe*fe, Ki*Ti*Qi*fi\n",
    "muG = Ge_tot+Gi_tot+gL # total conductance\n",
    "Tm = Cm/muG # effective membrane time constant\n",
    "Tm0 = Cm/gL # membrane time constant at rest\n",
    "\n",
    "# then \n",
    "muV = (El*gL+Ge_tot*Ee+Gi_tot*Ei)/muG\n",
    "\n",
    "# now variance and autocorrelation time"
   ]
  },
  {
   "cell_type": "code",
   "execution_count": 22,
   "metadata": {
    "collapsed": false
   },
   "outputs": [],
   "source": [
    "t, PSPe, PSPi = symbols(\"t, PSPe, PSPi\") \n",
    "\n",
    "# we need the PSP, solve the membrane equation around muV for an input as an exponential synapse at time t=0,\n",
    "# and fixing the drving force at the muV level, you get:\n",
    "PSPe = Heaviside(t)*Qe/muG*Te/(Tm-Te)*(exp(-t/Tm)-exp(-t/Te))*(muV-Ee)\n",
    "PSPi = Heaviside(t)*Qi/muG*Ti/(Tm-Ti)*(exp(-t/Tm)-exp(-t/Ti))*(muV-Ei)\n",
    "\n",
    "# N.B. there seems to be an exception for Tm=Te or Tm=Ti, indeed, needs a different solving method (alpha-like solution)\n",
    "# but the results become the same after Fourier transform and integration..."
   ]
  },
  {
   "cell_type": "code",
   "execution_count": 24,
   "metadata": {
    "collapsed": false
   },
   "outputs": [],
   "source": [
    "f, tfPSPe, tfPSPi = symbols(\"f, tfPSPe, tfPSPi\") # for Fourier analysis\n",
    "\n",
    "# doesn't work in sympy yet... :(\n",
    "# but doing this whould do the job:\n",
    "\n",
    "# tfPSPe = fourier_transform(PSPe, t, f)\n",
    "# tfPSPi = fourier_transform(PSPi, t, f)"
   ]
  },
  {
   "cell_type": "code",
   "execution_count": 26,
   "metadata": {
    "collapsed": true
   },
   "outputs": [],
   "source": [
    "# so we do it manually\n",
    "PSP, T, tfPSP = symbols(\"PSP, T, tfPSP\")\n",
    "PSP = Heaviside(t)*exp(-t/T)\n",
    "tfPSP = fourier_transform(PSP, t, f) # this works\n",
    "\n",
    "# then exploiting linearity and replacing\n",
    "tfPSPe = Qe/muG*Te/(Tm-Te)*(muV-Ee)*(tfPSP.subs(T, Tm)-tfPSP.subs(T, Te))\n",
    "tfPSPi = Qi/muG*Ti/(Tm-Ti)*(muV-Ei)*(tfPSP.subs(T, Tm)-tfPSP.subs(T, Ti))"
   ]
  },
  {
   "cell_type": "code",
   "execution_count": null,
   "metadata": {
    "collapsed": false
   },
   "outputs": [],
   "source": [
    "psd = symbols(\"psd\") # power spectrum of the membrane potential fluctuations\n",
    "psd = fe*Ke*Abs(tfPSPe)**2+fi*Ki*Abs(tfPSPi)**2 # psd for this point process (shotnoise theory)"
   ]
  },
  {
   "cell_type": "code",
   "execution_count": 33,
   "metadata": {
    "collapsed": false
   },
   "outputs": [],
   "source": [
    "# then variance\n",
    "sV = sqrt(integrate(psd, (f, -oo, oo)))"
   ]
  },
  {
   "cell_type": "code",
   "execution_count": null,
   "metadata": {
    "collapsed": true
   },
   "outputs": [],
   "source": [
    "# then autocorrelation time\n",
    "Tv = integrate(psd, (f, -oo, oo))/psd.subs(f, 0)/2"
   ]
  },
  {
   "cell_type": "markdown",
   "metadata": {},
   "source": [
    "\n",
    "## 2) Spiking probability from the fluctuations properties"
   ]
  },
  {
   "cell_type": "code",
   "execution_count": 38,
   "metadata": {
    "collapsed": false
   },
   "outputs": [],
   "source": [
    "# each neuronal model is described by an effective threshold that is a \n",
    "\n",
    "# second order polynomial of 3 variables (muV, sV, Tv) + linear dependency on total conductance\n",
    "P0, P1, P2, P3, P4, P5, P6, P7, P8, P9, P10 = symbols(\"P0, P1, P2, P3, P4, P5, P6, P7, P8, P9, P10\") \n",
    "# scaling factors (useless, will be global variables, it's just to insure that the P coefficents are all in the same range)\n",
    "muV0, DmuV0, sV0, DsV0, TvN0, DTvN0 = symbols('muV0, dmuV, sV0, dsV, Tv0, dTv')\n",
    "TvN = symbols('TvN')\n",
    "TvN = Tv/Tm0 # normalized autocorrelation time (because neurons can have varying time constants)\n",
    "\n",
    "Vthre_eff = symbols('Vthre_eff') \n",
    "# second order polynomial\n",
    "Vthre_eff = P0+P1*(muV-muV0)/DmuV0+\\\n",
    "            P2*(sV-sV0)/DsV0+P3*(TvN-TvN0)/DTvN0+\\\n",
    "            P4*log(muG/gL)+P5*((muV-muV0)/DmuV0)**2+\\\n",
    "            P6*((sV-sV0)/DsV0)**2+P7*((TvN-TvN0)/DTvN0)**2+\\\n",
    "            P8*(muV-muV0)/DmuV0*(sV-sV0)/DsV0+\\\n",
    "            P9*(muV-muV0)/DmuV0*(TvN-TvN0)/DTvN0+\\\n",
    "            P10*(sV-sV0)/DsV0*(TvN-TvN0)/DTvN0\n",
    "\n",
    "# Finally, spiking probability\n",
    "Fout = symbols('Fout') \n",
    "Fout = 1/2/Tv*erfc((Vthre_eff-muV)/np.sqrt(2)/sV)"
   ]
  },
  {
   "cell_type": "code",
   "execution_count": null,
   "metadata": {
    "collapsed": true
   },
   "outputs": [],
   "source": [
    "# then we will also need the derivatives with respect to the presynaptic activities\n",
    "diff(Fout, fe)"
   ]
  },
  {
   "cell_type": "code",
   "execution_count": null,
   "metadata": {
    "collapsed": true
   },
   "outputs": [],
   "source": [
    "diff(Fout, fi)"
   ]
  },
  {
   "cell_type": "code",
   "execution_count": null,
   "metadata": {
    "collapsed": true
   },
   "outputs": [],
   "source": [
    "diff(diff(Fout, fe), fe)"
   ]
  },
  {
   "cell_type": "code",
   "execution_count": null,
   "metadata": {
    "collapsed": true
   },
   "outputs": [],
   "source": [
    "diff(diff(Fout, fe), fi)"
   ]
  },
  {
   "cell_type": "code",
   "execution_count": null,
   "metadata": {
    "collapsed": true
   },
   "outputs": [],
   "source": [
    "diff(diff(Fout, fi), fi)"
   ]
  }
 ],
 "metadata": {
  "kernelspec": {
   "display_name": "Python 2",
   "language": "python",
   "name": "python2"
  },
  "language_info": {
   "codemirror_mode": {
    "name": "ipython",
    "version": 2
   },
   "file_extension": ".py",
   "mimetype": "text/x-python",
   "name": "python",
   "nbconvert_exporter": "python",
   "pygments_lexer": "ipython2",
   "version": "2.7.11"
  }
 },
 "nbformat": 4,
 "nbformat_minor": 0
}
