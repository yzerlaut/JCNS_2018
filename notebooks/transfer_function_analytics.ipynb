{
 "cells": [
  {
   "cell_type": "markdown",
   "metadata": {},
   "source": [
    "# An analytical workflow for the estimation of the \"transfer function\" of spiking neuron model\n",
    "\n",
    "_Prerequisites_: Basics about the theory of point processes. Membrane Equation for the single compartment model (e.g reproduce Kuhn et al. 2004).\n",
    "\n",
    "For the fluctuations, it is adapted from the strategy suggested in the experimental study of Zerlaut et al., ~2016. Mean and standard deviation identical to Kuhn et al. 2004, just adapted to get the autocorrelation time... Here, instead of the \"fluctuating current + static conductance\" presented in the paper, we apply this strategy on an input made of and excitatory and an inhibitory shotnoise with conductance-based synapses. See also the same calculus for a model of a dendritic structure and presynaptic correlations in Zerlaut & Destexhe ~2016 (a lot heavier though)\n"
   ]
  },
  {
   "cell_type": "markdown",
   "metadata": {},
   "source": [
    "## 1) Properties of the membrane potential fluctuations: $\\mu_V, \\sigma_V, \\tau_V$"
   ]
  },
  {
   "cell_type": "markdown",
   "metadata": {},
   "source": [
    "\n",
    "### For $\\mu_V$\n",
    "\n",
    "\\begin{equation}\n",
    " \\mu_V =  \\frac{ g_L \\, E_L + \\sum_{syn} K_{syn} \\, \\nu_{syn} \\, \\tau_{syn} \\, Q_{syn} \\, E_{syn} }{\n",
    " g_L  + \\sum_{syn} K_{syn} \\, \\nu_{syn} \\, \\tau_{syn} \\, Q_{syn}}\n",
    "\\end{equation}\n",
    "\n",
    "so we need to calculate the PSP, its squared Fourier tranform and integrate it !"
   ]
  },
  {
   "cell_type": "markdown",
   "metadata": {},
   "source": [
    "### For $\\sigma_V$ and $\\tau_V$ \n",
    "\n",
    "\n",
    "\\begin{equation}\n",
    " \\sigma_V  = \\sqrt{ \\int_\\mathbb{R} P_V(f) \\, df }\n",
    "\\end{equation}\n",
    "\n",
    "and\n",
    "\n",
    "\\begin{equation}\n",
    "  \\tau_V = \\frac{1}{2} \\, \\big( \\frac{\\int_\\mathbb{R} P_V(f) \\, d f}{ P_V(0) } \\big)^{-1}\n",
    "\\end{equation}\n",
    "\n",
    "and we get the power spectrum density from shotnoise theory:\n",
    "\n",
    "\\begin{equation}\n",
    " P_V(f)  =  \\sum_{syn} \\nu_{syn} \\, \\| \\hat{\\mathrm{PSP}}(f) \\|^2\n",
    "\\end{equation}\n",
    "\n",
    "so we need to calculate the PSP, its squared Fourier tranform and integrate it !"
   ]
  },
  {
   "cell_type": "markdown",
   "metadata": {},
   "source": [
    "#### derivation:\n",
    "\n",
    "Equation for $PSP(t)$ around \\mu_V:\n",
    "\n",
    "\\begin{equation}\n",
    "\\left\\{\n",
    "\\begin{split}\n",
    "& \\tau_\\mathrm{m}^\\mathrm{eff} \\frac{d PSP}{dt} + PSP = U_{syn} \\, \\mathcal{H}(t) \\, e^{\\frac{-t}{\\tau_{syn}}} \\\\\n",
    "& U_{syn} = \\frac{Q_{syn}}{\\mu_G} (E_{syn} - \\mu_V)\n",
    "\\end{split}\n",
    "\\right.\n",
    "\\end{equation}\n",
    "\n",
    "\n",
    "Thus, a single excitatory or inhibitory post-synaptic potential event from\n",
    "this input will have the following time course around $\\mu_V$:\n",
    "\n",
    "\n",
    "\\begin{equation}\n",
    " PSP(t) =U_{syn} \\, \\frac{\\tau_{syn}}{ \\tau_\\mathrm{m}^\\mathrm{eff} - \\tau_{syn} }\n",
    " \\, (e^{-\\frac{t}{\\tau_\\mathrm{m}^\\mathrm{eff}}} - e^{-\\frac{t}{\\tau_S}})  \\, \\mathcal{H}(t)\n",
    "\\end{equation}\n",
    "\n",
    "#### from now on: using sympy"
   ]
  },
  {
   "cell_type": "code",
   "execution_count": 31,
   "metadata": {
    "collapsed": true
   },
   "outputs": [],
   "source": [
    "from sympy import exp, cosh, sinh, init_printing, pprint, simplify, latex, symbols,\\\n",
    "  Function, sign, factor, fraction, pi, integrate,oo\n",
    "from sympy.abc import a,b\n",
    "from sympy import inverse_fourier_transform, fourier_transform\n",
    "init_printing()"
   ]
  },
  {
   "cell_type": "code",
   "execution_count": 32,
   "metadata": {
    "collapsed": false
   },
   "outputs": [
    {
     "name": "stdout",
     "output_type": "stream",
     "text": [
      "Form of the Post-Synaptic Potential event:\n"
     ]
    },
    {
     "data": {
      "image/png": "[encoded data removed]",
      "text/latex": [
       "$$\\frac{1}{2} \\left(e^{- \\frac{t}{\\tau_{1}}} - e^{- \\frac{t}{\\tau_{2}}}\\right) \\left(\\operatorname{sign}{\\left (t \\right )} + 1\\right)$$"
      ],
      "text/plain": [
       "⎛ -t     -t ⎞              \n",
       "⎜ ───    ───⎟              \n",
       "⎜  τ₁     τ₂⎟              \n",
       "⎝ℯ    - ℯ   ⎠⋅(sign(t) + 1)\n",
       "───────────────────────────\n",
       "             2             "
      ]
     },
     "execution_count": 32,
     "metadata": {},
     "output_type": "execute_result"
    }
   ],
   "source": [
    "# we simplify it, to take the \n",
    "\n",
    "f, t, T1, T2, Usyn = symbols('f, t, tau_1, tau2, U_{syn}', real=True)\n",
    "PSP = Function('PSP')\n",
    "PSP = (exp(-t/T1)-exp(-t/T2))*(1+sign(t))/2\n",
    "print 'Form of the Post-Synaptic Potential event:' \n",
    "PSP"
   ]
  },
  {
   "cell_type": "code",
   "execution_count": 33,
   "metadata": {
    "collapsed": false
   },
   "outputs": [
    {
     "name": "stdout",
     "output_type": "stream",
     "text": [
      "Fourier Transform of the PSP event:\n"
     ]
    },
    {
     "data": {
      "image/png": "[encoded data removed]",
      "text/latex": [
       "$$\\frac{- \\tau_{2} + \\tau_{1}}{- 4 \\pi^{2} f^{2} \\tau_{2} \\tau_{1} + 2 i \\pi f \\tau_{2} + 2 i \\pi f \\tau_{1} + 1}$$"
      ],
      "text/plain": [
       "                   -τ₂ + τ₁                  \n",
       "─────────────────────────────────────────────\n",
       "     2  2                                    \n",
       "- 4⋅π ⋅f ⋅τ₂⋅τ₁ + 2⋅ⅈ⋅π⋅f⋅τ₂ + 2⋅ⅈ⋅π⋅f⋅τ₁ + 1"
      ]
     },
     "execution_count": 33,
     "metadata": {},
     "output_type": "execute_result"
    }
   ],
   "source": [
    "print 'Fourier Transform of the PSP event:'\n",
    "PSP_hat = Function('PSP_hat')\n",
    "PSP_hat = factor(fourier_transform(PSP, t, f))\n",
    "numerator, denominator = fraction(PSP_hat)\n",
    "simplify(PSP_hat)"
   ]
  },
  {
   "cell_type": "code",
   "execution_count": 34,
   "metadata": {
    "collapsed": false
   },
   "outputs": [
    {
     "name": "stdout",
     "output_type": "stream",
     "text": [
      "Square modulus of the Fourier Transform of the PSP event:\n"
     ]
    },
    {
     "data": {
      "image/png": "[encoded data removed]",
      "text/latex": [
       "$$\\frac{\\tau_{2}^{2} - 2 \\tau_{2} \\tau_{1} + \\tau_{1}^{2}}{16 \\pi^{4} f^{4} \\tau_{2}^{2} \\tau_{1}^{2} + 4 \\pi^{2} f^{2} \\tau_{2}^{2} + 4 \\pi^{2} f^{2} \\tau_{1}^{2} + 1}$$"
      ],
      "text/plain": [
       "                2               2               \n",
       "              τ₂  - 2⋅τ₂⋅τ₁ + τ₁                \n",
       "────────────────────────────────────────────────\n",
       "    4  4   2   2      2  2   2      2  2   2    \n",
       "16⋅π ⋅f ⋅τ₂ ⋅τ₁  + 4⋅π ⋅f ⋅τ₂  + 4⋅π ⋅f ⋅τ₁  + 1"
      ]
     },
     "execution_count": 34,
     "metadata": {},
     "output_type": "execute_result"
    }
   ],
   "source": [
    "from sympy.functions import Abs, conjugate\n",
    "print 'Square modulus of the Fourier Transform of the PSP event:'\n",
    "PSP_hat2 = simplify((PSP_hat)*conjugate(PSP_hat))\n",
    "numerator, denominator = fraction(PSP_hat2)\n",
    "PSP_hat2"
   ]
  },
  {
   "cell_type": "code",
   "execution_count": 35,
   "metadata": {
    "collapsed": false
   },
   "outputs": [
    {
     "data": {
      "image/png": "[encoded data removed]",
      "text/latex": [
       "$$\\left ( \\tau_{2}^{2} - 2 \\tau_{2} \\tau_{1} + \\tau_{1}^{2}, \\quad \\left(4 \\pi^{2} f^{2} \\tau_{2}^{2} + 1\\right) \\left(4 \\pi^{2} f^{2} \\tau_{1}^{2} + 1\\right)\\right )$$"
      ],
      "text/plain": [
       "⎛  2               2  ⎛   2  2   2    ⎞ ⎛   2  2   2    ⎞⎞\n",
       "⎝τ₂  - 2⋅τ₂⋅τ₁ + τ₁ , ⎝4⋅π ⋅f ⋅τ₂  + 1⎠⋅⎝4⋅π ⋅f ⋅τ₁  + 1⎠⎠"
      ]
     },
     "execution_count": 35,
     "metadata": {},
     "output_type": "execute_result"
    }
   ],
   "source": [
    "# then we simplify to integrate\n",
    "simplify(numerator), factor(simplify(denominator))"
   ]
  },
  {
   "cell_type": "markdown",
   "metadata": {},
   "source": [
    "So first:\n",
    "\n",
    "\\begin{equation}\n",
    "\\| \\hat{\\mathrm{PSP}}(0) \\|^2 = (U_{syn} \\cdot \\tau_{syn})^2 \n",
    "\\end{equation}\n",
    "\n",
    "and:\n",
    "\n",
    "\\begin{equation}\n",
    "\\| \\hat{\\mathrm{PSP}}(f) \\|^2 = \\frac{(U_{syn} \\cdot \\tau_{syn})^2}{\n",
    " \\big( (2 \\, \\pi \\, f \\tau_\\mathrm{m}^\\mathrm{eff}) ^2 + 1 \\big)\\big( (2 \\, \\pi \\, f \\tau_{syn}) ^2 + 1 \\big)}\n",
    "\\end{equation}\n"
   ]
  },
  {
   "cell_type": "code",
   "execution_count": 36,
   "metadata": {
    "collapsed": false
   },
   "outputs": [
    {
     "data": {
      "image/png": "[encoded data removed]",
      "text/latex": [
       "$$\\begin{cases} \\frac{1}{2 \\tau_{2} + 2 \\tau_{1}} & \\text{for}\\: \\left\\lvert{\\operatorname{periodic_{argument}}{\\left (\\operatorname{polar\\_lift}^{2}{\\left (\\tau_{2} \\right )},\\infty \\right )}}\\right\\rvert < \\pi \\wedge \\left\\lvert{\\operatorname{periodic_{argument}}{\\left (\\operatorname{polar\\_lift}^{2}{\\left (\\tau_{1} \\right )},\\infty \\right )}}\\right\\rvert < \\pi \\\\\\int_{-\\infty}^{\\infty} \\frac{1}{\\left(4 \\pi^{2} f^{2} \\tau_{2}^{2} + 1\\right) \\left(4 \\pi^{2} f^{2} \\tau_{1}^{2} + 1\\right)}\\, df & \\text{otherwise} \\end{cases}$$"
      ],
      "text/plain": [
       "⎧                    1                          │                 ⎛          2\n",
       "⎪               ───────────                 for │periodic_argument⎝polar_lift \n",
       "⎪               2⋅(τ₂ + τ₁)                                                   \n",
       "⎪                                                                             \n",
       "⎪∞                                                                            \n",
       "⎪⌠                                                                            \n",
       "⎨⎮                   1                                                        \n",
       "⎪⎮  ─────────────────────────────────── df                                    \n",
       "⎪⎮  ⎛   2  2   2    ⎞ ⎛   2  2   2    ⎞                                       \n",
       "⎪⎮  ⎝4⋅π ⋅f ⋅τ₂  + 1⎠⋅⎝4⋅π ⋅f ⋅τ₁  + 1⎠                                       \n",
       "⎪⌡                                                                            \n",
       "⎪-∞                                                                           \n",
       "⎩                                                                             \n",
       "\n",
       "       ⎞│       │                 ⎛          2       ⎞│    \n",
       "(τ₂), ∞⎠│ < π ∧ │periodic_argument⎝polar_lift (τ₁), ∞⎠│ < π\n",
       "                                                           \n",
       "                                                           \n",
       "                                                           \n",
       "                                                           \n",
       "                                                           \n",
       "        otherwise                                          \n",
       "                                                           \n",
       "                                                           \n",
       "                                                           \n",
       "                                                           \n",
       "                                                           "
      ]
     },
     "execution_count": 36,
     "metadata": {},
     "output_type": "execute_result"
    }
   ],
   "source": [
    "# we will need to integrate this\n",
    "\n",
    "func = Function('func')\n",
    "func = 1/((1+4*pi**2*T1**2*f**2)*(1+4*pi**2*T2**2*f**2))\n",
    "simplify(integrate(func, (f, -oo, oo)))"
   ]
  },
  {
   "cell_type": "markdown",
   "metadata": {},
   "source": [
    "#### Finally:\n",
    "\n",
    "because:\n",
    "\n",
    "\\begin{equation}\n",
    "\\int_\\mathbb{R}  df \\, \\| \\hat{\\mathrm{PSP}}(f) \\|^2 = \\frac{(U_{syn} \\cdot \\tau_{syn})^2}{2 \\, (\\tau_\\mathrm{m}^\\mathrm{eff} + \\tau_{syn} ) }\n",
    "\\end{equation}\n",
    "\n",
    "we get:\n",
    "\n",
    "\\begin{equation}\n",
    " \\sigma_V  = \\sqrt{ \\sum_{syn} K_{syn} \\, \\nu_{syn} \\, \\frac{(U_{syn} \\cdot \\tau_{syn})^2}{2 \\, (\\tau_\\mathrm{m}^\\mathrm{eff} + \\tau_{syn} ) } }\n",
    "\\end{equation}\n",
    "\n",
    "and\n",
    "\n",
    "\\begin{equation}\n",
    "  \\tau_V = \\frac{1}{2} \\, \\Big( \\frac{\n",
    "  \\sum_{syn} \\big( K_{syn} \\, \\nu_{syn} \\, (U_{syn} \\cdot \\tau_{syn})^2 /(\\tau_\\mathrm{m}^\\mathrm{eff} + \\tau_{syn} ) \\big)\n",
    "  }{ \\sum_{syn} \\big( K_{syn} \\, \\nu_{syn} \\, (U_{syn} \\cdot \\tau_{syn})^2\\big) } \\Big)^{-1}\n",
    "\\end{equation}\n",
    "\n",
    "\n"
   ]
  },
  {
   "cell_type": "markdown",
   "metadata": {},
   "source": [
    "\n",
    "## 2) Spiking probability from the fluctuations properties"
   ]
  },
  {
   "cell_type": "code",
   "execution_count": null,
   "metadata": {
    "collapsed": false
   },
   "outputs": [],
   "source": [
    "# each neuronal model is described by an effective threshold that is a \n",
    "\n",
    "# second order polynomial of 3 variables (muV, sV, Tv) + linear dependency on total conductance\n",
    "P0, P1, P2, P3, P4, P5, P6, P7, P8, P9, P10 = symbols(\"P0, P1, P2, P3, P4, P5, P6, P7, P8, P9, P10\") \n",
    "# scaling factors (useless, will be global variables, it's just to insure that the P coefficents are all in the same range)\n",
    "muV0, DmuV0, sV0, DsV0, TvN0, DTvN0 = symbols('muV0, dmuV, sV0, dsV, Tv0, dTv')\n",
    "TvN = symbols('TvN')\n",
    "TvN = Tv/Tm0 # normalized autocorrelation time (because neurons can have varying time constants)\n",
    "\n",
    "Vthre_eff = symbols('Vthre_eff') \n",
    "# second order polynomial\n",
    "Vthre_eff = P0+P1*(muV-muV0)/DmuV0+\\\n",
    "            P2*(sV-sV0)/DsV0+P3*(TvN-TvN0)/DTvN0+\\\n",
    "            P4*log(muG/gL)+P5*((muV-muV0)/DmuV0)**2+\\\n",
    "            P6*((sV-sV0)/DsV0)**2+P7*((TvN-TvN0)/DTvN0)**2+\\\n",
    "            P8*(muV-muV0)/DmuV0*(sV-sV0)/DsV0+\\\n",
    "            P9*(muV-muV0)/DmuV0*(TvN-TvN0)/DTvN0+\\\n",
    "            P10*(sV-sV0)/DsV0*(TvN-TvN0)/DTvN0\n",
    "\n",
    "# Finally, spiking probability\n",
    "Fout = symbols('Fout') \n",
    "Fout = 1/2/Tv*erfc((Vthre_eff-muV)/np.sqrt(2)/sV)"
   ]
  },
  {
   "cell_type": "code",
   "execution_count": null,
   "metadata": {
    "collapsed": true
   },
   "outputs": [],
   "source": [
    "# then we will also need the derivatives with respect to the presynaptic activities\n",
    "diff(Fout, fe)"
   ]
  },
  {
   "cell_type": "code",
   "execution_count": null,
   "metadata": {
    "collapsed": true
   },
   "outputs": [],
   "source": [
    "diff(Fout, fi)"
   ]
  },
  {
   "cell_type": "code",
   "execution_count": null,
   "metadata": {
    "collapsed": true
   },
   "outputs": [],
   "source": [
    "diff(diff(Fout, fe), fe)"
   ]
  },
  {
   "cell_type": "code",
   "execution_count": null,
   "metadata": {
    "collapsed": true
   },
   "outputs": [],
   "source": [
    "diff(diff(Fout, fe), fi)"
   ]
  },
  {
   "cell_type": "code",
   "execution_count": null,
   "metadata": {
    "collapsed": true
   },
   "outputs": [],
   "source": [
    "diff(diff(Fout, fi), fi)"
   ]
  }
 ],
 "metadata": {
  "kernelspec": {
   "display_name": "Python 2",
   "language": "python",
   "name": "python2"
  },
  "language_info": {
   "codemirror_mode": {
    "name": "ipython",
    "version": 2
   },
   "file_extension": ".py",
   "mimetype": "text/x-python",
   "name": "python",
   "nbconvert_exporter": "python",
   "pygments_lexer": "ipython2",
   "version": "2.7.10"
  }
 },
 "nbformat": 4,
 "nbformat_minor": 0
}
